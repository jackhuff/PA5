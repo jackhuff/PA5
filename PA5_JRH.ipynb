{
 "cells": [
  {
   "cell_type": "markdown",
   "id": "70b7b76a",
   "metadata": {},
   "source": [
    "### Jack Huff\n",
    "### CS-150-01\n",
    "### Programming Assignment 5\n"
   ]
  },
  {
   "cell_type": "code",
   "execution_count": 1,
   "id": "f7335852",
   "metadata": {},
   "outputs": [
    {
     "name": "stdout",
     "output_type": "stream",
     "text": [
      "Enter a word to translate from English to Spanish (enter 0 to stop):water\n",
      "The Spanish word for water is agua.\n",
      "Enter a word to translate from English to Spanish (enter 0 to stop):park\n",
      "The Spanish word for park is not in this dictionary.\n",
      "Enter a word to translate from English to Spanish (enter 0 to stop):dog\n",
      "The Spanish word for dog is perro.\n",
      "Enter a word to translate from English to Spanish (enter 0 to stop):cat\n",
      "The Spanish word for cat is gata.\n",
      "Enter a word to translate from English to Spanish (enter 0 to stop):0\n"
     ]
    }
   ],
   "source": [
    "translator={'Hello': 'hola',\n",
    "            'shoes': 'zapatos',\n",
    "            'jacket':'chaqueta',\n",
    "            'pizza': 'pizza',\n",
    "            'apple':'manzana',\n",
    "            'computer':'computadora',\n",
    "            'gum':'chicle',\n",
    "            'phone':'telefono',\n",
    "            'jokic':'jokic',\n",
    "            'dog':'perro',\n",
    "            'cat':'gata',\n",
    "            'water': 'agua',\n",
    "            'school':'colegio',\n",
    "            'backpack':'mochila',\n",
    "            'clock': 'reloj',\n",
    "            'eye': 'ojo',\n",
    "            'chicken': 'pollo',\n",
    "            'mask': 'mascara',\n",
    "            'pencil':'lapiz',\n",
    "            'window': 'ventana'\n",
    "           }\n",
    "\n",
    "english = str()\n",
    "\n",
    "\n",
    "while english != '0':\n",
    "    english=str(input('Enter a word to translate from English to Spanish (enter 0 to stop):'))\n",
    "    \n",
    "    \n",
    "    if english != '0':\n",
    "        print('The Spanish word for {} is {}.'.format(english,(translator.get(english,'not in this dictionary'))))\n",
    "        \n",
    "    else:\n",
    "        exit()"
   ]
  },
  {
   "cell_type": "code",
   "execution_count": 2,
   "id": "c3be8cdc",
   "metadata": {},
   "outputs": [
    {
     "name": "stdout",
     "output_type": "stream",
     "text": [
      "{1: 26.666666666666668, 2: 26.11111111111111, 3: 27.222222222222225, 4: 28.88888888888889, 5: 24.444444444444446, 6: 28.88888888888889, 7: 28.333333333333336, 8: 25.0, 9: 25.0, 10: 25.555555555555557, 11: 27.222222222222225, 12: 29.444444444444446, 13: 30.555555555555557, 14: 28.88888888888889, 15: 25.555555555555557, 16: 26.666666666666668, 17: 29.444444444444446, 18: 28.88888888888889, 19: 28.88888888888889, 20: 22.77777777777778, 21: 23.88888888888889, 22: 15.555555555555557, 23: 18.88888888888889, 24: 22.22222222222222, 25: 24.444444444444446, 27: 28.88888888888889, 28: 28.88888888888889, 29: 30.0, 30: 28.333333333333336}\n"
     ]
    }
   ],
   "source": [
    "temperature={1 : 80,\n",
    "        2 : 79,\n",
    "        3 : 81,\n",
    "        4 : 84,\n",
    "        5 : 76,\n",
    "        6 : 84,\n",
    "        7 : 83,\n",
    "        8 : 77,\n",
    "        9 : 77,\n",
    "        10 : 78,\n",
    "        11 : 81,\n",
    "        12 : 85,\n",
    "        13 : 87,\n",
    "        14 : 84,\n",
    "        15 : 78,\n",
    "        16 : 80,\n",
    "        17 : 85,\n",
    "        18 : 84,\n",
    "        19 : 84,\n",
    "        20 : 73,\n",
    "        21 : 75,\n",
    "        22 : 60,\n",
    "        23 : 66,\n",
    "        24 : 72,\n",
    "        25 : 75,\n",
    "        25 : 76,\n",
    "        27 : 84,\n",
    "        28 : 84,\n",
    "        29 : 86,\n",
    "        30 : 83}\n",
    "temperature = {day : (5/9)*(temp-32) for (day,temp) in temperature.items()}\n",
    "print(temperature)"
   ]
  },
  {
   "cell_type": "code",
   "execution_count": 5,
   "id": "ea8fb9cf",
   "metadata": {},
   "outputs": [
    {
     "name": "stdout",
     "output_type": "stream",
     "text": [
      "(22, 15.555555555555557)\n",
      "(29, 30.0)\n"
     ]
    }
   ],
   "source": [
    "x = list(temperature.items())\n",
    "x.sort(key=lambda x: x[1])\n",
    "print(x[0])\n",
    "print(x[-2])"
   ]
  },
  {
   "cell_type": "markdown",
   "id": "ac122fa1",
   "metadata": {},
   "source": [
    "#### 1. symmetric_difference(^)\n"
   ]
  },
  {
   "cell_type": "code",
   "execution_count": 6,
   "id": "14ff3f11",
   "metadata": {},
   "outputs": [
    {
     "data": {
      "text/plain": [
       "{1, 2, 5, 6, 7, 9}"
      ]
     },
     "execution_count": 6,
     "metadata": {},
     "output_type": "execute_result"
    }
   ],
   "source": [
    "# Tells you what the difference is between the sets\n",
    "set_A = {1, 2, 3, 4, 5}\n",
    "set_B = {6, 7, 3, 9, 4}\n",
    "set_A^set_B"
   ]
  },
  {
   "cell_type": "markdown",
   "id": "9b6bfcf7",
   "metadata": {},
   "source": [
    "#### 2. .isdisjoint()"
   ]
  },
  {
   "cell_type": "code",
   "execution_count": 9,
   "id": "3f598a56",
   "metadata": {},
   "outputs": [
    {
     "name": "stdout",
     "output_type": "stream",
     "text": [
      "False\n",
      "True\n"
     ]
    }
   ],
   "source": [
    "# True if sets have no items in common, false if they do  \n",
    "set_A = {1, 2, 3, 4, 5}\n",
    "set_B = {6, 7, 3, 9, 4}\n",
    "set_C = {10,20,30}\n",
    "print(set_A.isdisjoint(set_B))\n",
    "print(set_B.isdisjoint(set_C))"
   ]
  },
  {
   "cell_type": "markdown",
   "id": "fe9741b6",
   "metadata": {},
   "source": [
    "#### 3. intersection_update(&=)"
   ]
  },
  {
   "cell_type": "code",
   "execution_count": 14,
   "id": "dc2a6322",
   "metadata": {},
   "outputs": [
    {
     "data": {
      "text/plain": [
       "{3, 4}"
      ]
     },
     "execution_count": 14,
     "metadata": {},
     "output_type": "execute_result"
    }
   ],
   "source": [
    "# Deletes items that are not common in both sets\n",
    "set_A = {1, 2, 3, 4, 5}\n",
    "set_B = {6, 7, 3, 9, 4}\n",
    "set_A &= set_B\n",
    "set_A"
   ]
  },
  {
   "cell_type": "markdown",
   "id": "e74c9557",
   "metadata": {},
   "source": [
    "#### 4. symmetric_difference(^=)"
   ]
  },
  {
   "cell_type": "code",
   "execution_count": 16,
   "id": "ad19253a",
   "metadata": {},
   "outputs": [
    {
     "data": {
      "text/plain": [
       "{1, 2, 5, 6, 7, 9}"
      ]
     },
     "execution_count": 16,
     "metadata": {},
     "output_type": "execute_result"
    }
   ],
   "source": [
    "# creates new list without elements that were shared in other two sets\n",
    "set_A = {1, 2, 3, 4, 5}\n",
    "set_B = {6, 7, 3, 9, 4}\n",
    "set_A^=set_B\n",
    "set_A"
   ]
  },
  {
   "cell_type": "markdown",
   "id": "489a305f",
   "metadata": {},
   "source": [
    "#### 5. .remove(), .discard(), .pop()"
   ]
  },
  {
   "cell_type": "code",
   "execution_count": 20,
   "id": "6110edb8",
   "metadata": {},
   "outputs": [
    {
     "name": "stdout",
     "output_type": "stream",
     "text": [
      "{2, 3, 4, 5}\n",
      "{3, 4, 5}\n",
      "{4, 5}\n"
     ]
    }
   ],
   "source": [
    "# .remove removes an element from a set\n",
    "# .discard also removes an element from a set\n",
    "# .pop removes a random element frim a set\n",
    "\n",
    "set_A = {1, 2, 3, 4, 5}\n",
    "set_A.remove(1)\n",
    "print(set_A)\n",
    "set_A.discard(2)\n",
    "print(set_A)\n",
    "set_A.pop()\n",
    "print(set_A)"
   ]
  },
  {
   "cell_type": "code",
   "execution_count": null,
   "id": "49ccdf03",
   "metadata": {},
   "outputs": [],
   "source": []
  }
 ],
 "metadata": {
  "kernelspec": {
   "display_name": "Python 3",
   "language": "python",
   "name": "python3"
  },
  "language_info": {
   "codemirror_mode": {
    "name": "ipython",
    "version": 3
   },
   "file_extension": ".py",
   "mimetype": "text/x-python",
   "name": "python",
   "nbconvert_exporter": "python",
   "pygments_lexer": "ipython3",
   "version": "3.8.8"
  }
 },
 "nbformat": 4,
 "nbformat_minor": 5
}
